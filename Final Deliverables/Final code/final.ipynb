{
  "cells": [
    {
      "metadata": {
        "trusted": true,
        "colab": {
          "base_uri": "https://localhost:8080/"
        },
        "id": "2bejh3VEwcbi",
        "outputId": "6884674b-23bf-4b95-a893-7c8a9ab5d0fb"
      },
      "cell_type": "code",
      "source": [
        "import pandas as pd\n",
        "\n",
        "df = pd.read_csv('flightdata.csv')\n",
        "df.head()\n",
        "\n",
        "\n",
        "df.shape\n",
        "df.isnull().values.any()\n",
        "\n",
        "df.isnull().sum()\n",
        "\n",
        "df = df[[\"MONTH\", \"DAY_OF_MONTH\", \"DAY_OF_WEEK\", \"ORIGIN\", \"DEST\", \"CRS_DEP_TIME\", \"ARR_DEL15\"]]\n",
        "df.isnull().sum()\n",
        "\n",
        "df[df.isnull().values.any(axis=1)].head()\n",
        "\n",
        "df = df.fillna({'ARR_DEL15': 1})\n",
        "\n",
        "df.iloc[177:185]\n",
        "df.head()\n",
        "\n",
        "import math\n",
        "\n",
        "for index, row in df.iterrows():\n",
        "    df.loc[index, 'CRS_DEP_TIME'] = math.floor(row['CRS_DEP_TIME'] / 100)\n",
        "df.head()\n",
        "\n",
        "df = pd.get_dummies(df, columns=['ORIGIN', 'DEST'])\n",
        "df.head()\n",
        "\n",
        "from sklearn.model_selection import train_test_split\n",
        "train_x, test_x, train_y, test_y = train_test_split(df.drop('ARR_DEL15', axis=1), df['ARR_DEL15'], test_size=0.2, random_state=42)\n",
        "\n",
        "train_x.shape\n",
        "test_x.shape\n",
        "\n",
        "import pickle\n",
        "look_back=1\n",
        "import math\n",
        "from keras.models import Sequential\n",
        "from keras.layers import Dense\n",
        "from keras.layers import LSTM\n",
        "from sklearn.preprocessing import MinMaxScaler\n",
        "from sklearn.metrics import mean_squared_error\n",
        "from keras.layers.core import Dense, Activation, Dropout\n",
        "import time #helper libraries\n",
        "\n",
        "model = Sequential()\n",
        "model.add(LSTM(25, input_shape=(14, look_back)))\n",
        "model.add(Dropout(0.1))\n",
        "model.add(Dense(20000))\n",
        "model.compile(loss='mse', optimizer='adam')\n",
        "model.fit(train_x, train_y, epochs=10, batch_size=240, verbose=1)\n",
        "\n",
        "loss_and_metrics = model.evaluate(test_x,test_y)\n",
        "k=(10-float(loss_and_metrics))*10\n",
        "print(\"Accuracy : \",k)\n",
        "filename = 'LSTM.sav'\n",
        "pickle.dump(model, open(filename, 'wb'))\n",
        "y_pred = model.predict(test_x)\n",
        "\n",
        "predicted = model.predict(test_x)\n",
        "print(model.evaluate(test_x, test_y))\n",
        "\n",
        "\n",
        "def predict_delay(departure_date_time, origin, destination):\n",
        "    from datetime import datetime\n",
        "\n",
        "    try:\n",
        "        departure_date_time_parsed = datetime.strptime(departure_date_time, '%d/%m/%Y %H:%M:%S')\n",
        "    except ValueError as e:\n",
        "        return 'Error parsing date/time - {}'.format(e)\n",
        "\n",
        "    month = departure_date_time_parsed.month\n",
        "    day = departure_date_time_parsed.day\n",
        "    day_of_week = departure_date_time_parsed.isoweekday()\n",
        "    hour = departure_date_time_parsed.hour\n",
        "\n",
        "    origin = origin.upper()\n",
        "    destination = destination.upper()\n",
        "\n",
        "    input = [{'MONTH': month,\n",
        "              'DAY': day,\n",
        "              'DAY_OF_WEEK': day_of_week,\n",
        "              'CRS_DEP_TIME': hour,\n",
        "              'ORIGIN_ATL': 1 if origin == 'ATL' else 0,\n",
        "              'ORIGIN_DTW': 1 if origin == 'DTW' else 0,\n",
        "              'ORIGIN_JFK': 1 if origin == 'JFK' else 0,\n",
        "              'ORIGIN_MSP': 1 if origin == 'MSP' else 0,\n",
        "              'ORIGIN_SEA': 1 if origin == 'SEA' else 0,\n",
        "              'DEST_ATL': 1 if destination == 'ATL' else 0,\n",
        "              'DEST_DTW': 1 if destination == 'DTW' else 0,\n",
        "              'DEST_JFK': 1 if destination == 'JFK' else 0,\n",
        "              'DEST_MSP': 1 if destination == 'MSP' else 0,\n",
        "              'DEST_SEA': 1 if destination == 'SEA' else 0 }]\n",
        "    # printing the resultant list of a dictionary keys\n",
        "    rt=model.predict(pd.DataFrame(input))[0][0]\n",
        "    return rt\n",
        "\n",
        "\n",
        "\n"
      ],
      "execution_count": 2,
      "outputs": [
        {
          "output_type": "stream",
          "name": "stdout",
          "text": [
            "Epoch 1/10\n",
            "38/38 [==============================] - 5s 65ms/step - loss: 0.1277\n",
            "Epoch 2/10\n",
            "38/38 [==============================] - 2s 62ms/step - loss: 0.1201\n",
            "Epoch 3/10\n",
            "38/38 [==============================] - 2s 61ms/step - loss: 0.1202\n",
            "Epoch 4/10\n",
            "38/38 [==============================] - 4s 94ms/step - loss: 0.1201\n",
            "Epoch 5/10\n",
            "38/38 [==============================] - 4s 107ms/step - loss: 0.1203\n",
            "Epoch 6/10\n",
            "38/38 [==============================] - 3s 63ms/step - loss: 0.1201\n",
            "Epoch 7/10\n",
            "38/38 [==============================] - 2s 62ms/step - loss: 0.1198\n",
            "Epoch 8/10\n",
            "38/38 [==============================] - 2s 63ms/step - loss: 0.1200\n",
            "Epoch 9/10\n",
            "38/38 [==============================] - 2s 62ms/step - loss: 0.1200\n",
            "Epoch 10/10\n",
            "38/38 [==============================] - 2s 62ms/step - loss: 0.1199\n",
            "71/71 [==============================] - 1s 6ms/step - loss: 0.1191\n",
            "Accuracy :  98.808863312006\n"
          ]
        },
        {
          "output_type": "stream",
          "name": "stderr",
          "text": [
            "WARNING:absl:Found untraced functions such as lstm_cell_layer_call_fn, lstm_cell_layer_call_and_return_conditional_losses while saving (showing 2 of 2). These functions will not be directly callable after loading.\n"
          ]
        },
        {
          "output_type": "stream",
          "name": "stdout",
          "text": [
            "71/71 [==============================] - 1s 6ms/step\n",
            "71/71 [==============================] - 1s 9ms/step\n",
            "71/71 [==============================] - 1s 9ms/step - loss: 0.1191\n",
            "0.11911366879940033\n"
          ]
        }
      ]
    },
    {
      "cell_type": "code",
      "source": [
        "a=input(\"Enter date and Time in this Format 1/10/2018 3:45:00\")\n",
        "b=input(\"Enter orgin\")\n",
        "c=input(\"Enter dest\")\n",
        "\n",
        "\n",
        "xd=predict_delay(a,b, c)\n",
        "#j=\"<html><head></head><body><h1><center>\"+str(xd*100)+\" MIN DELAY\"+\"</center></h1></body></html>\"\n",
        "j=str(xd*100)+\"_MIN_DELAY\"\n",
        "print(j)\n",
        "import urllib.request\n",
        "yu=\"https://api.thingspeak.com/update?api_key=8JU3M80YH7V1UITT&field1=\"+str(j)\n",
        "fg=urllib.request.urlopen(yu)"
      ],
      "metadata": {
        "colab": {
          "base_uri": "https://localhost:8080/"
        },
        "id": "8xEPUtSixeCy",
        "outputId": "f3aa2bb2-cf45-44e6-8d99-9965ee5c20e1"
      },
      "execution_count": 2,
      "outputs": [
        {
          "output_type": "stream",
          "name": "stdout",
          "text": [
            "Enter date and Time in this Format 1/10/2018 3:45:001/10/2018 3:45:00\n",
            "Enter orginSEA\n",
            "Enter destMSP\n",
            "1/1 [==============================] - 0s 22ms/step\n",
            "9.094405174255371_MIN_DELAY\n"
          ]
        }
      ]
    }
  ],
  "metadata": {
    "kernelspec": {
      "name": "python36",
      "display_name": "Python 3.6",
      "language": "python"
    },
    "language_info": {
      "mimetype": "text/x-python",
      "nbconvert_exporter": "python",
      "name": "python",
      "pygments_lexer": "ipython3",
      "version": "3.6.6",
      "file_extension": ".py",
      "codemirror_mode": {
        "version": 3,
        "name": "ipython"
      }
    },
    "colab": {
      "provenance": []
    }
  },
  "nbformat": 4,
  "nbformat_minor": 0
}